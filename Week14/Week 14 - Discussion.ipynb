{
 "cells": [
  {
   "cell_type": "markdown",
   "metadata": {},
   "source": [
    "# Week 14 Discussion - Triangle Counting in PySpark"
   ]
  },
  {
   "cell_type": "code",
   "execution_count": 30,
   "metadata": {
    "collapsed": false
   },
   "outputs": [],
   "source": [
    "import time\n",
    "import numpy as np\n",
    "from prettytable import PrettyTable\n",
    "from pyspark import SparkConf, SparkContext, SQLContext\n",
    "\n",
    "# Setup spark context\n",
    "conf = (SparkConf().setMaster(\"local\").setAppName(\"My app\").set(\"spark.executor.memory\", \"1g\"))\n",
    "sc = SparkContext(conf = conf)"
   ]
  },
  {
   "cell_type": "markdown",
   "metadata": {},
   "source": [
    "Now that we setup spark, lets load in our edge list for an example network from the assignment:"
   ]
  },
  {
   "cell_type": "code",
   "execution_count": 31,
   "metadata": {
    "collapsed": false
   },
   "outputs": [],
   "source": [
    "# Edges from homework example\n",
    "edges = sc.parallelize([(\"A\", \"B\"), \n",
    "                         (\"A\", \"C\"),\n",
    "                         (\"B\", \"C\"),\n",
    "                         (\"B\", \"D\"),\n",
    "                         (\"D\", \"E\"),\n",
    "                         (\"D\", \"F\"),\n",
    "                         (\"D\", \"G\"),\n",
    "                         (\"E\", \"F\"),\n",
    "                         (\"F\", \"G\")])"
   ]
  },
  {
   "cell_type": "markdown",
   "metadata": {},
   "source": [
    "From this edge list, lets map each edge to itself, to find all edge pairs. After that, we then do the map again, so we find all edge triples:"
   ]
  },
  {
   "cell_type": "code",
   "execution_count": 32,
   "metadata": {
    "collapsed": false
   },
   "outputs": [],
   "source": [
    "def find_edge_triplets(edges):\n",
    "    ''' Given list of edges, compute all edge-triplets '''\n",
    "    # Find cartesian product of cartesian product of edges with itself\n",
    "    edges_cartesian = edges.cartesian(edges).map(lambda (x,y): (1, (x,y)) )\n",
    "\n",
    "    # NOTE: not sure why I cannot do .cartesian twice, but gave me errors\n",
    "    edges = edges.map(lambda (x): (1, x) )\n",
    "    return edges.join(edges_cartesian)"
   ]
  },
  {
   "cell_type": "markdown",
   "metadata": {},
   "source": [
    "First we define some functions. The function cleanup_edges will convert the edge list to a flat list of edge tuples (otherwise, its in the format (edge1, (edge2, edge3); this is not needed, just used for debugging. I will not analyze it as part of the runtime).\n",
    "\n",
    "The function filter_edges filters out triplets based on whether or not it forms a triangle. This is done by matching nodes in the right position. Notice, we have an implicit ordering which we maintain when inputting the edges. The other funtions are obvious:"
   ]
  },
  {
   "cell_type": "code",
   "execution_count": 33,
   "metadata": {
    "collapsed": true
   },
   "outputs": [],
   "source": [
    "def cleanup_edges(pair):\n",
    "    ''' Make the RDD a bit more readable, not needed'''\n",
    "    key, value = pair\n",
    "    edge1, edge23 = value\n",
    "    edge2, edge3 = edge23\n",
    "    return (edge1, edge2, edge3)\n",
    "\n",
    "def filter_edges(value):\n",
    "    ''' Given list of edges triplets, filter out the triangles '''\n",
    "    edge1, edge2, edge3 = value\n",
    "    if edge1[1] == edge2[0] and edge3[0] == edge1[0] and edge3[1] == edge2[1]:\n",
    "        return True\n",
    "    return False\n",
    "\n",
    "def find_triangles(edge_triplets):\n",
    "    ''' Given edge triplets, filter out triangles'''\n",
    "    global cleanup_edges\n",
    "    global filter_edges\n",
    "    return edge_triplets.map(cleanup_edges).filter(filter_edges).collect()\n",
    "\n",
    "def print_triangles(edge_triplets):\n",
    "    ''' Given edge triplets, print out triangles'''\n",
    "    # Find all the triangles\n",
    "    triangles = find_triangles(edge_triplets)\n",
    "\n",
    "    # Create pretty table for results\n",
    "    x = PrettyTable([\"Edge1\", \"Edge2\", \"Edge3\"])\n",
    "    for triangle in triangles:\n",
    "        x.add_row([comp for comp in triangle]) \n",
    "    print x"
   ]
  },
  {
   "cell_type": "markdown",
   "metadata": {},
   "source": [
    "Now lets run the algorithm on data from our assignment (part (a)):"
   ]
  },
  {
   "cell_type": "code",
   "execution_count": 34,
   "metadata": {
    "collapsed": false
   },
   "outputs": [
    {
     "name": "stdout",
     "output_type": "stream",
     "text": [
      "+------------+------------+------------+\n",
      "|   Edge1    |   Edge2    |   Edge3    |\n",
      "+------------+------------+------------+\n",
      "| ('A', 'B') | ('B', 'C') | ('A', 'C') |\n",
      "| ('D', 'E') | ('E', 'F') | ('D', 'F') |\n",
      "| ('D', 'F') | ('F', 'G') | ('D', 'G') |\n",
      "+------------+------------+------------+\n"
     ]
    }
   ],
   "source": [
    "edge_triplets = find_edge_triplets(edges)\n",
    "print_triangles(edge_triplets)"
   ]
  },
  {
   "cell_type": "markdown",
   "metadata": {},
   "source": [
    "Lets look at the performance:"
   ]
  },
  {
   "cell_type": "code",
   "execution_count": 35,
   "metadata": {
    "collapsed": false
   },
   "outputs": [
    {
     "name": "stdout",
     "output_type": "stream",
     "text": [
      "Took 0.354274 seconds\n",
      "Took 0.342666 seconds\n",
      "Took 0.347257 seconds\n",
      "Took 0.334288 seconds\n",
      "Took 0.348718 seconds\n",
      "Took 0.383448 seconds\n",
      "Took 0.346751 seconds\n",
      "Took 0.361624 seconds\n",
      "Took 0.357762 seconds\n",
      "Took 0.370233 seconds\n",
      "Mean: 0.354702\n"
     ]
    }
   ],
   "source": [
    "num_iters = 10\n",
    "times = []\n",
    "\n",
    "for i in range(num_iters):\n",
    "    # Run our algorithm in spark to find all triangles\n",
    "    start = time.time()\n",
    "    edge_triplets = find_edge_triplets(edges)\n",
    "    find_triangles(edge_triplets)\n",
    "    end = time.time()\n",
    "    times.append(end-start)\n",
    "    print(\"Took %f seconds\" % (end - start))\n",
    "\n",
    "print(\"Mean: %f\" % np.mean(times))"
   ]
  },
  {
   "cell_type": "markdown",
   "metadata": {},
   "source": [
    "## Larger example"
   ]
  },
  {
   "cell_type": "code",
   "execution_count": 36,
   "metadata": {
    "collapsed": false
   },
   "outputs": [
    {
     "name": "stdout",
     "output_type": "stream",
     "text": [
      "+--------+--------+--------+\n",
      "| Edge1  | Edge2  | Edge3  |\n",
      "+--------+--------+--------+\n",
      "| (1, 3) | (3, 7) | (1, 7) |\n",
      "| (1, 4) | (4, 7) | (1, 7) |\n",
      "| (1, 4) | (4, 8) | (1, 8) |\n",
      "| (1, 5) | (5, 8) | (1, 8) |\n",
      "| (2, 4) | (4, 8) | (2, 8) |\n",
      "| (2, 4) | (4, 9) | (2, 9) |\n",
      "| (2, 5) | (5, 8) | (2, 8) |\n",
      "| (2, 6) | (6, 8) | (2, 8) |\n",
      "| (2, 6) | (6, 9) | (2, 9) |\n",
      "+--------+--------+--------+\n"
     ]
    }
   ],
   "source": [
    "# Edges from homework example\n",
    "larger_edges = sc.parallelize([(1,3),\n",
    "                                (1,4),\n",
    "                                (1,5),\n",
    "                                (1,7),\n",
    "                                (1,8),\n",
    "                                (2,4),\n",
    "                                (2,5),\n",
    "                                (2,6),\n",
    "                                (2,8),\n",
    "                                (2,9),\n",
    "                                (3,7),\n",
    "                                (4,7),\n",
    "                                (4,8),\n",
    "                                (4,9),\n",
    "                                (5,8),\n",
    "                                (6,8),\n",
    "                                (6,9)])\n",
    "\n",
    "# Run our algorithm in spark to find all triangles\n",
    "larger_edge_triplets = find_edge_triplets(larger_edges)\n",
    "print_triangles(larger_edge_triplets)"
   ]
  },
  {
   "cell_type": "code",
   "execution_count": 37,
   "metadata": {
    "collapsed": false
   },
   "outputs": [
    {
     "name": "stdout",
     "output_type": "stream",
     "text": [
      "Took 0.359745 seconds\n",
      "Took 0.374729 seconds\n",
      "Took 0.350913 seconds\n",
      "Took 0.358876 seconds\n",
      "Took 0.389838 seconds\n",
      "Took 0.350999 seconds\n",
      "Took 0.362462 seconds\n",
      "Took 0.364040 seconds\n",
      "Took 0.380120 seconds\n",
      "Took 0.365628 seconds\n",
      "Mean: 0.365735\n"
     ]
    }
   ],
   "source": [
    "num_iters = 10\n",
    "times = []\n",
    "\n",
    "for i in range(num_iters):\n",
    "    # Run our algorithm in spark to find all triangles\n",
    "    start = time.time()\n",
    "    larger_edge_triplets = find_edge_triplets(larger_edges)\n",
    "    find_triangles(larger_edge_triplets)\n",
    "    end = time.time()\n",
    "    times.append(end - start)\n",
    "    print(\"Took %f seconds\" % (end - start))\n",
    "\n",
    "print(\"Mean: %f\" % np.mean(times))"
   ]
  },
  {
   "cell_type": "markdown",
   "metadata": {},
   "source": [
    "## Comparison to R\n",
    "\n",
    "It looks like the spark implementation with Python takes about  0.36s to find all the triangles. The R code for the assignment took 0.09s for part (a), 0.11s for part (b) and 0.23s for part (c). There is a general increase as the size of the graph increases. With the Spark implementation, it seems consistently 0.36s (only part (a) and (c) are done here). This accords with my intuition: the Sprak implementation, like MR, has a high startup cost, so for small problems, it is noticable. This eventually gets amortized as the data grows. The hand coded R implementation relies heavily on igraph and it's performance will eventually get bad enough that the Spark implementation will beat it."
   ]
  },
  {
   "cell_type": "markdown",
   "metadata": {},
   "source": [
    "## Cleanup"
   ]
  },
  {
   "cell_type": "code",
   "execution_count": 38,
   "metadata": {
    "collapsed": false
   },
   "outputs": [],
   "source": [
    "# sc.stop()"
   ]
  },
  {
   "cell_type": "code",
   "execution_count": null,
   "metadata": {
    "collapsed": true
   },
   "outputs": [],
   "source": []
  }
 ],
 "metadata": {
  "kernelspec": {
   "display_name": "Python 2",
   "language": "python",
   "name": "python2"
  },
  "language_info": {
   "codemirror_mode": {
    "name": "ipython",
    "version": 2
   },
   "file_extension": ".py",
   "mimetype": "text/x-python",
   "name": "python",
   "nbconvert_exporter": "python",
   "pygments_lexer": "ipython2",
   "version": "2.7.6"
  }
 },
 "nbformat": 4,
 "nbformat_minor": 0
}
