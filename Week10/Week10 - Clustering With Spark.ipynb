{
 "cells": [
  {
   "cell_type": "markdown",
   "metadata": {},
   "source": [
    "# Week 10 - Clustering with Spark\n",
    "\n",
    "Assignment is presented in three sections. The first section shows how to do a basic job of coutning primes using Spark and Python. I used [this link](https://districtdatalabs.silvrback.com/getting-started-with-spark-in-python) as a guide on how to setup PySpark and IPython notebook integration, and for the code regarding primes.\n",
    "\n",
    "The second section is a basic K-Means clustering example. The code here is from the example on [this page](http://spark.apache.org/docs/latest/mllib-clustering.html). \n",
    "\n",
    "The last section basically runs the K-Means algorithm on the data from the previous weeks and presents results\n",
    "\n",
    "## Intro and Basic Setup"
   ]
  },
  {
   "cell_type": "code",
   "execution_count": 112,
   "metadata": {
    "collapsed": false
   },
   "outputs": [],
   "source": [
    "# Create PySpark context\n",
    "from pyspark import  SparkContext\n",
    "sc = SparkContext( 'local', 'pyspark')"
   ]
  },
  {
   "cell_type": "code",
   "execution_count": 97,
   "metadata": {
    "collapsed": false
   },
   "outputs": [
    {
     "name": "stdout",
     "output_type": "stream",
     "text": [
      "78498\n"
     ]
    }
   ],
   "source": [
    "# Simple example of distributed computation of the number of primes till 1000000\n",
    "def isprime(n):\n",
    "    \"\"\"\n",
    "    check if integer n is a prime\n",
    "    \"\"\"\n",
    "    # make sure n is a positive integer\n",
    "    n = abs(int(n))\n",
    "    # 0 and 1 are not primes\n",
    "    if n < 2:\n",
    "        return False\n",
    "    # 2 is the only even prime number\n",
    "    if n == 2:\n",
    "        return True\n",
    "    # all other even numbers are not primes\n",
    "    if not n & 1:\n",
    "        return False\n",
    "    # range starts with 3 and only needs to go up the square root of n\n",
    "    # for all odd numbers\n",
    "    for x in range(3, int(n**0.5)+1, 2):\n",
    "        if n % x == 0:\n",
    "            return False\n",
    "    return True\n",
    "\n",
    "# Create an RDD of numbers from 0 to 1,000,000\n",
    "nums = sc.parallelize(xrange(1000000))\n",
    "\n",
    "# Compute the number of primes in the RDD\n",
    "print nums.filter(isprime).count()"
   ]
  },
  {
   "cell_type": "code",
   "execution_count": 98,
   "metadata": {
    "collapsed": false
   },
   "outputs": [
    {
     "name": "stdout",
     "output_type": "stream",
     "text": [
      "MapPartitionsRDD[17] at textFile at NativeMethodAccessorImpl.java:-2\n"
     ]
    }
   ],
   "source": [
    "# Load in shakespear text file\n",
    "text = sc.textFile(\"shakespeare.txt\")\n",
    "print text\n"
   ]
  },
  {
   "cell_type": "code",
   "execution_count": 99,
   "metadata": {
    "collapsed": false
   },
   "outputs": [
    {
     "name": "stdout",
     "output_type": "stream",
     "text": [
      "PythonRDD[18] at RDD at PythonRDD.scala:43\n"
     ]
    }
   ],
   "source": [
    "# Define function to take in string an return list of tokens. Could use nltk here\n",
    "def tokenize(text):\n",
    "    return text.split()\n",
    "\n",
    "# Use function above and map it to every entry in the RDD\n",
    "words = text.flatMap(tokenize)\n",
    "print words"
   ]
  },
  {
   "cell_type": "code",
   "execution_count": 100,
   "metadata": {
    "collapsed": false
   },
   "outputs": [
    {
     "name": "stdout",
     "output_type": "stream",
     "text": [
      "(1) PythonRDD[19] at RDD at PythonRDD.scala:43 []\n",
      " |  MapPartitionsRDD[17] at textFile at NativeMethodAccessorImpl.java:-2 []\n",
      " |  shakespeare.txt HadoopRDD[16] at textFile at NativeMethodAccessorImpl.java:-2 []\n"
     ]
    }
   ],
   "source": [
    "# Map each word to a tuple of (word, 1) to indiate that this word appeared once\n",
    "wc = words.map(lambda x: (x,1))\n",
    "print wc.toDebugString()"
   ]
  },
  {
   "cell_type": "code",
   "execution_count": 101,
   "metadata": {
    "collapsed": false
   },
   "outputs": [
    {
     "name": "stdout",
     "output_type": "stream",
     "text": [
      "(1) PythonRDD[24] at RDD at PythonRDD.scala:43 []\n",
      " |  MapPartitionsRDD[23] at mapPartitions at PythonRDD.scala:374 []\n",
      " |  ShuffledRDD[22] at partitionBy at NativeMethodAccessorImpl.java:-2 []\n",
      " +-(1) PairwiseRDD[21] at reduceByKey at <ipython-input-101-f50e20538e62>:3 []\n",
      "    |  PythonRDD[20] at reduceByKey at <ipython-input-101-f50e20538e62>:3 []\n",
      "    |  MapPartitionsRDD[17] at textFile at NativeMethodAccessorImpl.java:-2 []\n",
      "    |  shakespeare.txt HadoopRDD[16] at textFile at NativeMethodAccessorImpl.java:-2 []\n"
     ]
    }
   ],
   "source": [
    "# Reduce the generated keys, using add to add the resulting values together for every key\n",
    "from operator import add\n",
    "counts = wc.reduceByKey(add)\n",
    "print counts.toDebugString()"
   ]
  },
  {
   "cell_type": "code",
   "execution_count": 102,
   "metadata": {
    "collapsed": false
   },
   "outputs": [
    {
     "name": "stdout",
     "output_type": "stream",
     "text": [
      "total 6076\r\n",
      "drwxrwxr-x 2 james james    4096 Nov  1 15:46 .\r\n",
      "drwxrwxr-x 5 james james    4096 Nov  1 15:46 ..\r\n",
      "-rw-r--r-- 1 james james 6159858 Nov  1 15:46 part-00000\r\n",
      "-rw-rw-r-- 1 james james   48132 Nov  1 15:46 .part-00000.crc\r\n",
      "-rw-r--r-- 1 james james       0 Nov  1 15:46 _SUCCESS\r\n",
      "-rw-rw-r-- 1 james james       8 Nov  1 15:46 ._SUCCESS.crc\r\n"
     ]
    }
   ],
   "source": [
    "# Save counts to folder wc, and look into output folder\n",
    "counts.saveAsTextFile(\"wc\")\n",
    "!ls -al wc"
   ]
  },
  {
   "cell_type": "code",
   "execution_count": 103,
   "metadata": {
    "collapsed": false
   },
   "outputs": [
    {
     "name": "stdout",
     "output_type": "stream",
     "text": [
      "(u'kingrichardiii@18311', 1)\r\n",
      "(u'troilusandcressida@83747', 1)\r\n",
      "(u'considered.', 2)\r\n",
      "(u'kinghenryviii@7731', 1)\r\n",
      "(u'hamlet@141843', 1)\r\n",
      "(u'othello@36737', 1)\r\n",
      "(u'kinghenryviii@7732', 1)\r\n",
      "(u'othello@36738', 1)\r\n",
      "(u'romeoandjuliet@1862', 1)\r\n",
      "(u'coriolanus@166868', 1)\r\n"
     ]
    }
   ],
   "source": [
    "# Show output from word count and stop the spark context\n",
    "!head wc/part-00000\n",
    "sc.stop()"
   ]
  },
  {
   "cell_type": "markdown",
   "metadata": {},
   "source": [
    "## Clustering with K-Means Example\n",
    "\n",
    "Here we do a kmeans clistering of data distributed with the Spark installation. This shows how to use Mllib from Python."
   ]
  },
  {
   "cell_type": "code",
   "execution_count": 104,
   "metadata": {
    "collapsed": false
   },
   "outputs": [
    {
     "name": "stdout",
     "output_type": "stream",
     "text": [
      "Within Set Sum of Squared Error = 0.692820323028\n"
     ]
    }
   ],
   "source": [
    "from pyspark import  SparkContext\n",
    "sc = SparkContext('local', 'pyspark')\n",
    "\n",
    "from pyspark.mllib.clustering import KMeans, KMeansModel\n",
    "from numpy import array\n",
    "from math import sqrt\n",
    "\n",
    "# Load and parse the data\n",
    "data = sc.textFile(\"%s/data/mllib/kmeans_data.txt\" % os.environ['SPARK_HOME'])\n",
    "parsedData = data.map(lambda line: array([float(x) for x in line.split(' ')]))\n",
    "\n",
    "# Build the model (cluster the data)\n",
    "clusters = KMeans.train(parsedData, 2, maxIterations=10,\n",
    "        runs=10, initializationMode=\"random\")\n",
    "\n",
    "# Evaluate clustering by computing Within Set Sum of Squared Errors\n",
    "def error(point):\n",
    "    center = clusters.centers[clusters.predict(point)]\n",
    "    return sqrt(sum([x**2 for x in (point - center)]))\n",
    "\n",
    "WSSSE = parsedData.map(lambda point: error(point)).reduce(lambda x, y: x + y)\n",
    "print(\"Within Set Sum of Squared Error = \" + str(WSSSE))\n",
    "\n",
    "# Save and load model\n",
    "clusters.save(sc, \"myModelPath\")\n",
    "sameModel = KMeansModel.load(sc, \"myModelPath\")"
   ]
  },
  {
   "cell_type": "code",
   "execution_count": 105,
   "metadata": {
    "collapsed": false
   },
   "outputs": [],
   "source": [
    "from pprint import pprint\n",
    "\n",
    "def show_clusters(clusters):\n",
    "    ''' Show cluster centers '''\n",
    "    print(\"Cluster centers: \")\n",
    "    pprint(clusters.centers)\n",
    "\n",
    "def show_predictions(examples):\n",
    "    ''' Show we can predict new arrays '''\n",
    "    for example in examples:\n",
    "        print(\"%s is clustered to: %s\" % (example, clusters.centers[clusters.predict(example)]))"
   ]
  },
  {
   "cell_type": "code",
   "execution_count": 106,
   "metadata": {
    "collapsed": false
   },
   "outputs": [
    {
     "name": "stdout",
     "output_type": "stream",
     "text": [
      "Cluster centers: \n",
      "[array([ 0.1,  0.1,  0.1]), array([ 9.1,  9.1,  9.1])]\n",
      "[1 1 1] is clustered to: [ 0.1  0.1  0.1]\n",
      "[8 8 8] is clustered to: [ 9.1  9.1  9.1]\n"
     ]
    }
   ],
   "source": [
    "show_clusters(clusters)\n",
    "show_predictions([ array([1, 1, 1]), array([8, 8, 8]) ])"
   ]
  },
  {
   "cell_type": "markdown",
   "metadata": {},
   "source": [
    "## K-Means for Mini Project\n",
    "\n",
    "Lets do the above but for the data from previous weeks"
   ]
  },
  {
   "cell_type": "code",
   "execution_count": 107,
   "metadata": {
    "collapsed": false
   },
   "outputs": [
    {
     "data": {
      "text/plain": [
       "[array([ 0.,  0.,  0.,  0.,  0.]),\n",
       " array([ 0.08,  0.08,  0.1 ,  0.24,  0.9 ]),\n",
       " array([ 0.06,  0.06,  0.05,  0.25,  0.33]),\n",
       " array([ 0.1 ,  0.1 ,  0.15,  0.65,  0.3 ]),\n",
       " array([ 0.08,  0.08,  0.08,  0.98,  0.24]),\n",
       " array([ 0.09,  0.15,  0.4 ,  0.1 ,  0.66]),\n",
       " array([ 0.1 ,  0.1 ,  0.43,  0.29,  0.56]),\n",
       " array([ 0.15,  0.02,  0.34,  0.4 ,  0.01]),\n",
       " array([ 0.2 ,  0.14,  0.35,  0.72,  0.25]),\n",
       " array([ 0.  ,  0.  ,  0.5 ,  0.2 ,  0.85])]"
      ]
     },
     "execution_count": 107,
     "metadata": {},
     "output_type": "execute_result"
    }
   ],
   "source": [
    "# Load and parse the data (make sure to convert to floats and create numpy arrays)\n",
    "mini_project_data = sc.textFile('data.csv').map(lambda line: array(map(lambda col: float(col), line.split(','))))\n",
    "            \n",
    "# Show data (only first 10 rows)\n",
    "mini_project_data.collect()[0:10]"
   ]
  },
  {
   "cell_type": "code",
   "execution_count": 108,
   "metadata": {
    "collapsed": true
   },
   "outputs": [],
   "source": [
    "# Number of clusters to find\n",
    "num_clusters = 10\n",
    "\n",
    "# Build the model (cluster the data)\n",
    "mini_project_clusters = KMeans.train(mini_project_data, num_clusters, maxIterations=10, runs=10, initializationMode=\"random\")"
   ]
  },
  {
   "cell_type": "code",
   "execution_count": 109,
   "metadata": {
    "collapsed": false
   },
   "outputs": [
    {
     "data": {
      "text/html": [
       "<div>\n",
       "<table border=\"1\" class=\"dataframe\">\n",
       "  <thead>\n",
       "    <tr style=\"text-align: right;\">\n",
       "      <th></th>\n",
       "      <th>0</th>\n",
       "      <th>1</th>\n",
       "      <th>2</th>\n",
       "      <th>3</th>\n",
       "      <th>4</th>\n",
       "    </tr>\n",
       "  </thead>\n",
       "  <tbody>\n",
       "    <tr>\n",
       "      <th>9</th>\n",
       "      <td>0.238562</td>\n",
       "      <td>0.211250</td>\n",
       "      <td>0.690000</td>\n",
       "      <td>0.271875</td>\n",
       "      <td>0.226875</td>\n",
       "    </tr>\n",
       "    <tr>\n",
       "      <th>4</th>\n",
       "      <td>0.240167</td>\n",
       "      <td>0.287867</td>\n",
       "      <td>0.186667</td>\n",
       "      <td>0.311000</td>\n",
       "      <td>0.250000</td>\n",
       "    </tr>\n",
       "    <tr>\n",
       "      <th>5</th>\n",
       "      <td>0.250970</td>\n",
       "      <td>0.237879</td>\n",
       "      <td>0.371970</td>\n",
       "      <td>0.241818</td>\n",
       "      <td>0.699394</td>\n",
       "    </tr>\n",
       "    <tr>\n",
       "      <th>1</th>\n",
       "      <td>0.252963</td>\n",
       "      <td>0.408111</td>\n",
       "      <td>0.273333</td>\n",
       "      <td>0.713333</td>\n",
       "      <td>0.194074</td>\n",
       "    </tr>\n",
       "    <tr>\n",
       "      <th>7</th>\n",
       "      <td>0.309179</td>\n",
       "      <td>0.375321</td>\n",
       "      <td>0.676429</td>\n",
       "      <td>0.698929</td>\n",
       "      <td>0.235714</td>\n",
       "    </tr>\n",
       "    <tr>\n",
       "      <th>3</th>\n",
       "      <td>0.349778</td>\n",
       "      <td>0.684444</td>\n",
       "      <td>0.596667</td>\n",
       "      <td>0.240741</td>\n",
       "      <td>0.654556</td>\n",
       "    </tr>\n",
       "    <tr>\n",
       "      <th>2</th>\n",
       "      <td>0.407344</td>\n",
       "      <td>0.276469</td>\n",
       "      <td>0.728437</td>\n",
       "      <td>0.286875</td>\n",
       "      <td>0.637812</td>\n",
       "    </tr>\n",
       "    <tr>\n",
       "      <th>8</th>\n",
       "      <td>0.576667</td>\n",
       "      <td>0.213625</td>\n",
       "      <td>0.395417</td>\n",
       "      <td>0.475417</td>\n",
       "      <td>0.225417</td>\n",
       "    </tr>\n",
       "    <tr>\n",
       "      <th>6</th>\n",
       "      <td>0.582952</td>\n",
       "      <td>0.494571</td>\n",
       "      <td>0.607143</td>\n",
       "      <td>0.833810</td>\n",
       "      <td>0.681905</td>\n",
       "    </tr>\n",
       "    <tr>\n",
       "      <th>0</th>\n",
       "      <td>0.620200</td>\n",
       "      <td>0.376500</td>\n",
       "      <td>0.192500</td>\n",
       "      <td>0.327500</td>\n",
       "      <td>0.722000</td>\n",
       "    </tr>\n",
       "  </tbody>\n",
       "</table>\n",
       "</div>"
      ],
      "text/plain": [
       "          0         1         2         3         4\n",
       "9  0.238562  0.211250  0.690000  0.271875  0.226875\n",
       "4  0.240167  0.287867  0.186667  0.311000  0.250000\n",
       "5  0.250970  0.237879  0.371970  0.241818  0.699394\n",
       "1  0.252963  0.408111  0.273333  0.713333  0.194074\n",
       "7  0.309179  0.375321  0.676429  0.698929  0.235714\n",
       "3  0.349778  0.684444  0.596667  0.240741  0.654556\n",
       "2  0.407344  0.276469  0.728437  0.286875  0.637812\n",
       "8  0.576667  0.213625  0.395417  0.475417  0.225417\n",
       "6  0.582952  0.494571  0.607143  0.833810  0.681905\n",
       "0  0.620200  0.376500  0.192500  0.327500  0.722000"
      ]
     },
     "execution_count": 109,
     "metadata": {},
     "output_type": "execute_result"
    }
   ],
   "source": [
    "# Show some details of results\n",
    "#show_clusters(mini_project_clusters)\n",
    "mini_project_week10_clusters = pd.DataFrame(mini_project_clusters.centers)\n",
    "mini_project_week10_clusters.sort([0])\n",
    "#mini_project_week10_clusters"
   ]
  },
  {
   "cell_type": "markdown",
   "metadata": {},
   "source": [
    "Lets compare this to the R output from Week9:"
   ]
  },
  {
   "cell_type": "code",
   "execution_count": 110,
   "metadata": {
    "collapsed": false
   },
   "outputs": [
    {
     "data": {
      "text/html": [
       "<div>\n",
       "<table border=\"1\" class=\"dataframe\">\n",
       "  <thead>\n",
       "    <tr style=\"text-align: right;\">\n",
       "      <th></th>\n",
       "      <th>X0</th>\n",
       "      <th>X0.1</th>\n",
       "      <th>X0.2</th>\n",
       "      <th>X0.3</th>\n",
       "      <th>X0.4</th>\n",
       "    </tr>\n",
       "  </thead>\n",
       "  <tbody>\n",
       "    <tr>\n",
       "      <th>1</th>\n",
       "      <td>0.200000</td>\n",
       "      <td>0.221300</td>\n",
       "      <td>0.620500</td>\n",
       "      <td>0.414000</td>\n",
       "      <td>0.150000</td>\n",
       "    </tr>\n",
       "    <tr>\n",
       "      <th>2</th>\n",
       "      <td>0.207593</td>\n",
       "      <td>0.252593</td>\n",
       "      <td>0.638148</td>\n",
       "      <td>0.307407</td>\n",
       "      <td>0.716296</td>\n",
       "    </tr>\n",
       "    <tr>\n",
       "      <th>3</th>\n",
       "      <td>0.256842</td>\n",
       "      <td>0.177632</td>\n",
       "      <td>0.341579</td>\n",
       "      <td>0.751579</td>\n",
       "      <td>0.244211</td>\n",
       "    </tr>\n",
       "    <tr>\n",
       "      <th>4</th>\n",
       "      <td>0.272735</td>\n",
       "      <td>0.512324</td>\n",
       "      <td>0.315588</td>\n",
       "      <td>0.565294</td>\n",
       "      <td>0.227353</td>\n",
       "    </tr>\n",
       "    <tr>\n",
       "      <th>5</th>\n",
       "      <td>0.337025</td>\n",
       "      <td>0.285325</td>\n",
       "      <td>0.213875</td>\n",
       "      <td>0.234250</td>\n",
       "      <td>0.626500</td>\n",
       "    </tr>\n",
       "    <tr>\n",
       "      <th>6</th>\n",
       "      <td>0.373586</td>\n",
       "      <td>0.671724</td>\n",
       "      <td>0.575172</td>\n",
       "      <td>0.242759</td>\n",
       "      <td>0.669759</td>\n",
       "    </tr>\n",
       "    <tr>\n",
       "      <th>7</th>\n",
       "      <td>0.470348</td>\n",
       "      <td>0.333739</td>\n",
       "      <td>0.754783</td>\n",
       "      <td>0.761739</td>\n",
       "      <td>0.454783</td>\n",
       "    </tr>\n",
       "    <tr>\n",
       "      <th>8</th>\n",
       "      <td>0.527621</td>\n",
       "      <td>0.250759</td>\n",
       "      <td>0.675862</td>\n",
       "      <td>0.217931</td>\n",
       "      <td>0.480000</td>\n",
       "    </tr>\n",
       "    <tr>\n",
       "      <th>9</th>\n",
       "      <td>0.545773</td>\n",
       "      <td>0.248545</td>\n",
       "      <td>0.278636</td>\n",
       "      <td>0.453182</td>\n",
       "      <td>0.248182</td>\n",
       "    </tr>\n",
       "    <tr>\n",
       "      <th>10</th>\n",
       "      <td>0.682643</td>\n",
       "      <td>0.601071</td>\n",
       "      <td>0.397143</td>\n",
       "      <td>0.810000</td>\n",
       "      <td>0.662143</td>\n",
       "    </tr>\n",
       "  </tbody>\n",
       "</table>\n",
       "</div>"
      ],
      "text/plain": [
       "          X0      X0.1      X0.2      X0.3      X0.4\n",
       "1   0.200000  0.221300  0.620500  0.414000  0.150000\n",
       "2   0.207593  0.252593  0.638148  0.307407  0.716296\n",
       "3   0.256842  0.177632  0.341579  0.751579  0.244211\n",
       "4   0.272735  0.512324  0.315588  0.565294  0.227353\n",
       "5   0.337025  0.285325  0.213875  0.234250  0.626500\n",
       "6   0.373586  0.671724  0.575172  0.242759  0.669759\n",
       "7   0.470348  0.333739  0.754783  0.761739  0.454783\n",
       "8   0.527621  0.250759  0.675862  0.217931  0.480000\n",
       "9   0.545773  0.248545  0.278636  0.453182  0.248182\n",
       "10  0.682643  0.601071  0.397143  0.810000  0.662143"
      ]
     },
     "execution_count": 110,
     "metadata": {},
     "output_type": "execute_result"
    }
   ],
   "source": [
    "import pandas as pd\n",
    "mini_project_week9_clusters = pd.DataFrame.from_csv(\"cluster_centers_week9.csv\")\n",
    "mini_project_week9_clusters"
   ]
  },
  {
   "cell_type": "markdown",
   "metadata": {},
   "source": [
    "We get somewhat consistent results. If we look at the clusters side by side, we can see the first row of week10's clusters maps to week9's second row, and vice versa. The 8th cluster (index 0) in week 10 maps to the 8th cluster (index 8) as well. The 7th row (index 2) in week 10 matches to row 6 in week9. Some of the others are harder to match. The fact that there doesn't seem to be more of an alignment (unless I am missing something) suggests that maybe I should reduce k in both situations, as the other clusters might be 'superfluous'"
   ]
  },
  {
   "cell_type": "code",
   "execution_count": 111,
   "metadata": {
    "collapsed": false
   },
   "outputs": [],
   "source": [
    "sc.stop()"
   ]
  }
 ],
 "metadata": {
  "kernelspec": {
   "display_name": "Python 2",
   "language": "python",
   "name": "python2"
  },
  "language_info": {
   "codemirror_mode": {
    "name": "ipython",
    "version": 2
   },
   "file_extension": ".py",
   "mimetype": "text/x-python",
   "name": "python",
   "nbconvert_exporter": "python",
   "pygments_lexer": "ipython2",
   "version": "2.7.6"
  }
 },
 "nbformat": 4,
 "nbformat_minor": 0
}
