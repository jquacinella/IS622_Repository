{
 "cells": [
  {
   "cell_type": "markdown",
   "metadata": {},
   "source": [
    "# Week 10 - Clustering with Spark\n",
    "\n",
    "Assignment is presented in three sections. The first section shows how to do a basic job of coutning primes using Spark and Python. I used [this link](https://districtdatalabs.silvrback.com/getting-started-with-spark-in-python) as a guide on how to setup PySpark and IPython notebook integration, and for the code regarding primes.\n",
    "\n",
    "The second section, which is now snipped, was a basic K-Means clustering example. The code here is from the example on [this page](http://spark.apache.org/docs/latest/mllib-clustering.html). \n",
    "\n",
    "The last section basically runs the K-Means algorithm on the data from the previous weeks and presents results as compared to R.\n",
    "\n",
    "## Intro and Basic Setup"
   ]
  },
  {
   "cell_type": "code",
   "execution_count": null,
   "metadata": {
    "collapsed": true
   },
   "outputs": [],
   "source": [
    "# Create PySpark context\n",
    "from pyspark import  SparkContext\n",
    "sc = SparkContext( 'local', 'pyspark')"
   ]
  },
  {
   "cell_type": "code",
   "execution_count": 19,
   "metadata": {
    "collapsed": false
   },
   "outputs": [],
   "source": [
    "# Import Kmeans from MLLib and other useful packages\n",
    "from pyspark.mllib.clustering import KMeans, KMeansModel\n",
    "import numpy as np\n",
    "from math import sqrt\n",
    "import pandas as pd"
   ]
  },
  {
   "cell_type": "markdown",
   "metadata": {},
   "source": [
    "## K-Means for Mini Project\n",
    "\n",
    "Lets do the above but for the data from previous weeks"
   ]
  },
  {
   "cell_type": "code",
   "execution_count": 2,
   "metadata": {
    "collapsed": false
   },
   "outputs": [
    {
     "data": {
      "text/plain": [
       "[array([ 0.,  0.,  0.,  0.,  0.]),\n",
       " array([ 0.08,  0.08,  0.1 ,  0.24,  0.9 ]),\n",
       " array([ 0.06,  0.06,  0.05,  0.25,  0.33]),\n",
       " array([ 0.1 ,  0.1 ,  0.15,  0.65,  0.3 ]),\n",
       " array([ 0.08,  0.08,  0.08,  0.98,  0.24]),\n",
       " array([ 0.09,  0.15,  0.4 ,  0.1 ,  0.66]),\n",
       " array([ 0.1 ,  0.1 ,  0.43,  0.29,  0.56]),\n",
       " array([ 0.15,  0.02,  0.34,  0.4 ,  0.01]),\n",
       " array([ 0.2 ,  0.14,  0.35,  0.72,  0.25]),\n",
       " array([ 0.  ,  0.  ,  0.5 ,  0.2 ,  0.85])]"
      ]
     },
     "execution_count": 2,
     "metadata": {},
     "output_type": "execute_result"
    }
   ],
   "source": [
    "# Load and parse the data (make sure to convert to floats and create numpy arrays)\n",
    "mini_project_data = sc.textFile('data.csv') \\\n",
    "                        .map(lambda line: np.array(map(lambda col: float(col), line.split(','))))\n",
    "            \n",
    "# Show data (only first 10 rows)\n",
    "mini_project_data.collect()[0:10]"
   ]
  },
  {
   "cell_type": "code",
   "execution_count": 6,
   "metadata": {
    "collapsed": true
   },
   "outputs": [],
   "source": [
    "# Number of clusters to find\n",
    "num_clusters = 10\n",
    "\n",
    "# Build the model (cluster the data)\n",
    "mini_project_clusters = KMeans.train(mini_project_data, num_clusters, \\\n",
    "                                     maxIterations=10, runs=10, initializationMode=\"random\")"
   ]
  },
  {
   "cell_type": "code",
   "execution_count": 7,
   "metadata": {
    "collapsed": false
   },
   "outputs": [
    {
     "data": {
      "text/html": [
       "<div>\n",
       "<table border=\"1\" class=\"dataframe\">\n",
       "  <thead>\n",
       "    <tr style=\"text-align: right;\">\n",
       "      <th></th>\n",
       "      <th>0</th>\n",
       "      <th>1</th>\n",
       "      <th>2</th>\n",
       "      <th>3</th>\n",
       "      <th>4</th>\n",
       "    </tr>\n",
       "  </thead>\n",
       "  <tbody>\n",
       "    <tr>\n",
       "      <th>6</th>\n",
       "      <td>0.265385</td>\n",
       "      <td>0.209115</td>\n",
       "      <td>0.301538</td>\n",
       "      <td>0.673846</td>\n",
       "      <td>0.190769</td>\n",
       "    </tr>\n",
       "    <tr>\n",
       "      <th>8</th>\n",
       "      <td>0.281429</td>\n",
       "      <td>0.237714</td>\n",
       "      <td>0.178929</td>\n",
       "      <td>0.290357</td>\n",
       "      <td>0.222500</td>\n",
       "    </tr>\n",
       "    <tr>\n",
       "      <th>0</th>\n",
       "      <td>0.337136</td>\n",
       "      <td>0.211636</td>\n",
       "      <td>0.656364</td>\n",
       "      <td>0.275000</td>\n",
       "      <td>0.228636</td>\n",
       "    </tr>\n",
       "    <tr>\n",
       "      <th>2</th>\n",
       "      <td>0.346067</td>\n",
       "      <td>0.387467</td>\n",
       "      <td>0.668333</td>\n",
       "      <td>0.700000</td>\n",
       "      <td>0.228000</td>\n",
       "    </tr>\n",
       "    <tr>\n",
       "      <th>4</th>\n",
       "      <td>0.351885</td>\n",
       "      <td>0.688077</td>\n",
       "      <td>0.608462</td>\n",
       "      <td>0.238077</td>\n",
       "      <td>0.658577</td>\n",
       "    </tr>\n",
       "    <tr>\n",
       "      <th>7</th>\n",
       "      <td>0.352500</td>\n",
       "      <td>0.609375</td>\n",
       "      <td>0.290000</td>\n",
       "      <td>0.563750</td>\n",
       "      <td>0.263750</td>\n",
       "    </tr>\n",
       "    <tr>\n",
       "      <th>5</th>\n",
       "      <td>0.360282</td>\n",
       "      <td>0.312051</td>\n",
       "      <td>0.268077</td>\n",
       "      <td>0.245897</td>\n",
       "      <td>0.700000</td>\n",
       "    </tr>\n",
       "    <tr>\n",
       "      <th>9</th>\n",
       "      <td>0.376463</td>\n",
       "      <td>0.264683</td>\n",
       "      <td>0.690976</td>\n",
       "      <td>0.266829</td>\n",
       "      <td>0.656829</td>\n",
       "    </tr>\n",
       "    <tr>\n",
       "      <th>3</th>\n",
       "      <td>0.571222</td>\n",
       "      <td>0.491444</td>\n",
       "      <td>0.666111</td>\n",
       "      <td>0.820000</td>\n",
       "      <td>0.683889</td>\n",
       "    </tr>\n",
       "    <tr>\n",
       "      <th>1</th>\n",
       "      <td>0.718333</td>\n",
       "      <td>0.323583</td>\n",
       "      <td>0.180833</td>\n",
       "      <td>0.703333</td>\n",
       "      <td>0.613333</td>\n",
       "    </tr>\n",
       "  </tbody>\n",
       "</table>\n",
       "</div>"
      ],
      "text/plain": [
       "          0         1         2         3         4\n",
       "6  0.265385  0.209115  0.301538  0.673846  0.190769\n",
       "8  0.281429  0.237714  0.178929  0.290357  0.222500\n",
       "0  0.337136  0.211636  0.656364  0.275000  0.228636\n",
       "2  0.346067  0.387467  0.668333  0.700000  0.228000\n",
       "4  0.351885  0.688077  0.608462  0.238077  0.658577\n",
       "7  0.352500  0.609375  0.290000  0.563750  0.263750\n",
       "5  0.360282  0.312051  0.268077  0.245897  0.700000\n",
       "9  0.376463  0.264683  0.690976  0.266829  0.656829\n",
       "3  0.571222  0.491444  0.666111  0.820000  0.683889\n",
       "1  0.718333  0.323583  0.180833  0.703333  0.613333"
      ]
     },
     "execution_count": 7,
     "metadata": {},
     "output_type": "execute_result"
    }
   ],
   "source": [
    "# Show some details of results\n",
    "#show_clusters(mini_project_clusters)\n",
    "mini_project_week10_clusters = pd.DataFrame(mini_project_clusters.centers)\n",
    "mini_project_week10_clusters.sort([0])\n",
    "#mini_project_week10_clusters"
   ]
  },
  {
   "cell_type": "markdown",
   "metadata": {},
   "source": [
    "Lets compare this to the R output from Week9:"
   ]
  },
  {
   "cell_type": "code",
   "execution_count": 110,
   "metadata": {
    "collapsed": false,
    "scrolled": true
   },
   "outputs": [
    {
     "data": {
      "text/html": [
       "<div>\n",
       "<table border=\"1\" class=\"dataframe\">\n",
       "  <thead>\n",
       "    <tr style=\"text-align: right;\">\n",
       "      <th></th>\n",
       "      <th>X0</th>\n",
       "      <th>X0.1</th>\n",
       "      <th>X0.2</th>\n",
       "      <th>X0.3</th>\n",
       "      <th>X0.4</th>\n",
       "    </tr>\n",
       "  </thead>\n",
       "  <tbody>\n",
       "    <tr>\n",
       "      <th>1</th>\n",
       "      <td>0.200000</td>\n",
       "      <td>0.221300</td>\n",
       "      <td>0.620500</td>\n",
       "      <td>0.414000</td>\n",
       "      <td>0.150000</td>\n",
       "    </tr>\n",
       "    <tr>\n",
       "      <th>2</th>\n",
       "      <td>0.207593</td>\n",
       "      <td>0.252593</td>\n",
       "      <td>0.638148</td>\n",
       "      <td>0.307407</td>\n",
       "      <td>0.716296</td>\n",
       "    </tr>\n",
       "    <tr>\n",
       "      <th>3</th>\n",
       "      <td>0.256842</td>\n",
       "      <td>0.177632</td>\n",
       "      <td>0.341579</td>\n",
       "      <td>0.751579</td>\n",
       "      <td>0.244211</td>\n",
       "    </tr>\n",
       "    <tr>\n",
       "      <th>4</th>\n",
       "      <td>0.272735</td>\n",
       "      <td>0.512324</td>\n",
       "      <td>0.315588</td>\n",
       "      <td>0.565294</td>\n",
       "      <td>0.227353</td>\n",
       "    </tr>\n",
       "    <tr>\n",
       "      <th>5</th>\n",
       "      <td>0.337025</td>\n",
       "      <td>0.285325</td>\n",
       "      <td>0.213875</td>\n",
       "      <td>0.234250</td>\n",
       "      <td>0.626500</td>\n",
       "    </tr>\n",
       "    <tr>\n",
       "      <th>6</th>\n",
       "      <td>0.373586</td>\n",
       "      <td>0.671724</td>\n",
       "      <td>0.575172</td>\n",
       "      <td>0.242759</td>\n",
       "      <td>0.669759</td>\n",
       "    </tr>\n",
       "    <tr>\n",
       "      <th>7</th>\n",
       "      <td>0.470348</td>\n",
       "      <td>0.333739</td>\n",
       "      <td>0.754783</td>\n",
       "      <td>0.761739</td>\n",
       "      <td>0.454783</td>\n",
       "    </tr>\n",
       "    <tr>\n",
       "      <th>8</th>\n",
       "      <td>0.527621</td>\n",
       "      <td>0.250759</td>\n",
       "      <td>0.675862</td>\n",
       "      <td>0.217931</td>\n",
       "      <td>0.480000</td>\n",
       "    </tr>\n",
       "    <tr>\n",
       "      <th>9</th>\n",
       "      <td>0.545773</td>\n",
       "      <td>0.248545</td>\n",
       "      <td>0.278636</td>\n",
       "      <td>0.453182</td>\n",
       "      <td>0.248182</td>\n",
       "    </tr>\n",
       "    <tr>\n",
       "      <th>10</th>\n",
       "      <td>0.682643</td>\n",
       "      <td>0.601071</td>\n",
       "      <td>0.397143</td>\n",
       "      <td>0.810000</td>\n",
       "      <td>0.662143</td>\n",
       "    </tr>\n",
       "  </tbody>\n",
       "</table>\n",
       "</div>"
      ],
      "text/plain": [
       "          X0      X0.1      X0.2      X0.3      X0.4\n",
       "1   0.200000  0.221300  0.620500  0.414000  0.150000\n",
       "2   0.207593  0.252593  0.638148  0.307407  0.716296\n",
       "3   0.256842  0.177632  0.341579  0.751579  0.244211\n",
       "4   0.272735  0.512324  0.315588  0.565294  0.227353\n",
       "5   0.337025  0.285325  0.213875  0.234250  0.626500\n",
       "6   0.373586  0.671724  0.575172  0.242759  0.669759\n",
       "7   0.470348  0.333739  0.754783  0.761739  0.454783\n",
       "8   0.527621  0.250759  0.675862  0.217931  0.480000\n",
       "9   0.545773  0.248545  0.278636  0.453182  0.248182\n",
       "10  0.682643  0.601071  0.397143  0.810000  0.662143"
      ]
     },
     "execution_count": 110,
     "metadata": {},
     "output_type": "execute_result"
    }
   ],
   "source": [
    "import pandas as pd\n",
    "mini_project_week9_clusters = pd.DataFrame.from_csv(\"cluster_centers_week9.csv\")\n",
    "mini_project_week9_clusters"
   ]
  },
  {
   "cell_type": "markdown",
   "metadata": {},
   "source": [
    "Old notes: We get somewhat consistent results. If we look at the clusters side by side, we can see the first row of week10's clusters maps to week9's second row, and vice versa. The 8th cluster (index 0) in week 10 maps to the 8th cluster (index 8) as well. The 7th row (index 2) in week 10 matches to row 6 in week9. Some of the others are harder to match. The fact that there doesn't seem to be more of an alignment (unless I am missing something) suggests that maybe I should reduce k in both situations, as the other clusters might be 'superfluous'\n",
    "\n",
    "After rerunning the example to trim the output as suggested, the output is now different, so the above analysis isn't quite right anymore. I am going to re-run this with K set to 4, so see if there is any agreement, as there does not seem to be agreement here:"
   ]
  },
  {
   "cell_type": "code",
   "execution_count": 8,
   "metadata": {
    "collapsed": false
   },
   "outputs": [
    {
     "data": {
      "text/html": [
       "<div>\n",
       "<table border=\"1\" class=\"dataframe\">\n",
       "  <thead>\n",
       "    <tr style=\"text-align: right;\">\n",
       "      <th></th>\n",
       "      <th>0</th>\n",
       "      <th>1</th>\n",
       "      <th>2</th>\n",
       "      <th>3</th>\n",
       "      <th>4</th>\n",
       "    </tr>\n",
       "  </thead>\n",
       "  <tbody>\n",
       "    <tr>\n",
       "      <th>1</th>\n",
       "      <td>0.301786</td>\n",
       "      <td>0.333798</td>\n",
       "      <td>0.442024</td>\n",
       "      <td>0.620000</td>\n",
       "      <td>0.198095</td>\n",
       "    </tr>\n",
       "    <tr>\n",
       "      <th>2</th>\n",
       "      <td>0.344672</td>\n",
       "      <td>0.327269</td>\n",
       "      <td>0.236045</td>\n",
       "      <td>0.246269</td>\n",
       "      <td>0.561642</td>\n",
       "    </tr>\n",
       "    <tr>\n",
       "      <th>0</th>\n",
       "      <td>0.369811</td>\n",
       "      <td>0.369486</td>\n",
       "      <td>0.689865</td>\n",
       "      <td>0.245946</td>\n",
       "      <td>0.562608</td>\n",
       "    </tr>\n",
       "    <tr>\n",
       "      <th>3</th>\n",
       "      <td>0.604455</td>\n",
       "      <td>0.438061</td>\n",
       "      <td>0.507576</td>\n",
       "      <td>0.753333</td>\n",
       "      <td>0.678788</td>\n",
       "    </tr>\n",
       "  </tbody>\n",
       "</table>\n",
       "</div>"
      ],
      "text/plain": [
       "          0         1         2         3         4\n",
       "1  0.301786  0.333798  0.442024  0.620000  0.198095\n",
       "2  0.344672  0.327269  0.236045  0.246269  0.561642\n",
       "0  0.369811  0.369486  0.689865  0.245946  0.562608\n",
       "3  0.604455  0.438061  0.507576  0.753333  0.678788"
      ]
     },
     "execution_count": 8,
     "metadata": {},
     "output_type": "execute_result"
    }
   ],
   "source": [
    "# Number of clusters to find\n",
    "num_clusters = 4\n",
    "\n",
    "# Build the model (cluster the data)\n",
    "mini_project_clusters2 = KMeans.train(mini_project_data, num_clusters, \\\n",
    "                                     maxIterations=10, runs=10, initializationMode=\"random\")\n",
    "mini_project_week10_clusters2 = pd.DataFrame(mini_project_clusters2.centers)\n",
    "mini_project_week10_clusters2.sort([0])"
   ]
  },
  {
   "cell_type": "markdown",
   "metadata": {},
   "source": [
    "I re-ran the R code with k = 4 with the following results:\n",
    "\n",
    "> setwd(\"Code/Masters/IS622/Week9/\")\n",
    "\n",
    "> clusterdata <- read.csv('data.csv')\n",
    "\n",
    "> num_clusters <- 4;\n",
    "\n",
    "> library(stats)\n",
    "\n",
    "> model.kmeans.builtin <- kmeans(clusterdata, num_clusters)\n",
    "\n",
    "> model.kmeans.builtin$centers[order(model.kmeans.builtin$centers[,1]),]\n",
    "\n",
    "\n",
    "       X0      X0.1      X0.2      X0.3      X0.4\n",
    "4 0.3089231 0.2886154 0.2755128 0.4776923 0.2256410\n",
    "2 0.3497324 0.3479155 0.6888732 0.2388732 0.5717324\n",
    "3 0.4182963 0.4236111 0.6412963 0.7505556 0.3875926\n",
    "1 0.4489074 0.4013889 0.2910185 0.3127778 0.7255556"
   ]
  },
  {
   "cell_type": "markdown",
   "metadata": {},
   "source": [
    "Still does not seem to line up too well, which makes me wonder about the accuracy of the previous R way (using custom K means in Hadoop), versus using a pre-built and hopefully battle-testing implementation in Spark."
   ]
  },
  {
   "cell_type": "code",
   "execution_count": 58,
   "metadata": {
    "collapsed": false
   },
   "outputs": [
    {
     "name": "stdout",
     "output_type": "stream",
     "text": [
      "('Number of points in cluster idx 0', 74)\n",
      "('Number of points in cluster idx 1', 84)\n",
      "('Number of points in cluster idx 2', 67)\n",
      "('Number of points in cluster idx 3', 33)\n"
     ]
    }
   ],
   "source": [
    "def dist(x,y):   \n",
    "    return np.sqrt(np.sum((x - y)**2))\n",
    "\n",
    "clusters = []\n",
    "mini_project_data_df = mini_project_data.collect()\n",
    "for row in mini_project_data_df:\n",
    "    distances = [ ]\n",
    "    distances.append( dist(mini_project_week10_clusters2.iloc[0], row) )\n",
    "    distances.append( dist(mini_project_week10_clusters2.iloc[1], row) )\n",
    "    distances.append( dist(mini_project_week10_clusters2.iloc[2], row) )\n",
    "    distances.append( dist(mini_project_week10_clusters2.iloc[3], row) )\n",
    "    #print \"Vector %s assigned to cluster idx %d\" % (row , np.argmin(distances))\n",
    "    clusters.append(np.argmin(distances))\n",
    "\n",
    "print(\"Number of points in cluster idx 0\", len([ c for c in clusters if c == 0]))\n",
    "print(\"Number of points in cluster idx 1\", len([ c for c in clusters if c == 1]))\n",
    "print(\"Number of points in cluster idx 2\", len([ c for c in clusters if c == 2]))\n",
    "print(\"Number of points in cluster idx 3\", len([ c for c in clusters if c == 3]))"
   ]
  },
  {
   "cell_type": "markdown",
   "metadata": {},
   "source": [
    "It seems that the clusters are close to being in size, except for the last index. This might suggest that 3 might be a better choice. As discussed in the lecture, there is a method to find an optimal k based on repeated clustering, and this approach could help fine tune k.\n",
    "\n",
    "Also, I would perform PCA to help reduce the dimensions to 2 or 3 to help with plotting, but I am running out of time for this weeks work"
   ]
  },
  {
   "cell_type": "code",
   "execution_count": 111,
   "metadata": {
    "collapsed": false
   },
   "outputs": [],
   "source": [
    "sc.stop()"
   ]
  }
 ],
 "metadata": {
  "kernelspec": {
   "display_name": "Python 2",
   "language": "python",
   "name": "python2"
  },
  "language_info": {
   "codemirror_mode": {
    "name": "ipython",
    "version": 2
   },
   "file_extension": ".py",
   "mimetype": "text/x-python",
   "name": "python",
   "nbconvert_exporter": "python",
   "pygments_lexer": "ipython2",
   "version": "2.7.6"
  }
 },
 "nbformat": 4,
 "nbformat_minor": 0
}
