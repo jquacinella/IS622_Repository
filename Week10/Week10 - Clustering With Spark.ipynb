{
 "cells": [
  {
   "cell_type": "markdown",
   "metadata": {},
   "source": [
    "# Week 10 - Clustering with Spark\n",
    "\n",
    "Used this as a guide on how to setup PySpark and IPython notebook integration: https://districtdatalabs.silvrback.com/getting-started-with-spark-in-python\n",
    "\n",
    "## Intro and Basic Setup"
   ]
  },
  {
   "cell_type": "code",
   "execution_count": 1,
   "metadata": {
    "collapsed": false
   },
   "outputs": [],
   "source": [
    "# Create PySpark context\n",
    "from pyspark import  SparkContext\n",
    "sc = SparkContext( 'local', 'pyspark')"
   ]
  },
  {
   "cell_type": "code",
   "execution_count": 2,
   "metadata": {
    "collapsed": false
   },
   "outputs": [
    {
     "name": "stdout",
     "output_type": "stream",
     "text": [
      "78498\n"
     ]
    }
   ],
   "source": [
    "# Simple example of distributed computation of the number of primes till 1000000\n",
    "def isprime(n):\n",
    "    \"\"\"\n",
    "    check if integer n is a prime\n",
    "    \"\"\"\n",
    "    # make sure n is a positive integer\n",
    "    n = abs(int(n))\n",
    "    # 0 and 1 are not primes\n",
    "    if n < 2:\n",
    "        return False\n",
    "    # 2 is the only even prime number\n",
    "    if n == 2:\n",
    "        return True\n",
    "    # all other even numbers are not primes\n",
    "    if not n & 1:\n",
    "        return False\n",
    "    # range starts with 3 and only needs to go up the square root of n\n",
    "    # for all odd numbers\n",
    "    for x in range(3, int(n**0.5)+1, 2):\n",
    "        if n % x == 0:\n",
    "            return False\n",
    "    return True\n",
    "\n",
    "# Create an RDD of numbers from 0 to 1,000,000\n",
    "nums = sc.parallelize(xrange(1000000))\n",
    "\n",
    "# Compute the number of primes in the RDD\n",
    "print nums.filter(isprime).count()"
   ]
  },
  {
   "cell_type": "code",
   "execution_count": 3,
   "metadata": {
    "collapsed": false
   },
   "outputs": [
    {
     "name": "stdout",
     "output_type": "stream",
     "text": [
      "MapPartitionsRDD[3] at textFile at NativeMethodAccessorImpl.java:-2\n"
     ]
    }
   ],
   "source": [
    "# Load in shakespear text file\n",
    "text = sc.textFile(\"shakespeare.txt\")\n",
    "print text\n"
   ]
  },
  {
   "cell_type": "code",
   "execution_count": 4,
   "metadata": {
    "collapsed": false
   },
   "outputs": [
    {
     "name": "stdout",
     "output_type": "stream",
     "text": [
      "PythonRDD[4] at RDD at PythonRDD.scala:43\n"
     ]
    }
   ],
   "source": [
    "# Define function to take in string an return list of tokens. Could use nltk here\n",
    "def tokenize(text):\n",
    "    return text.split()\n",
    "\n",
    "# Use function above and map it to every entry in the RDD\n",
    "words = text.flatMap(tokenize)\n",
    "print words"
   ]
  },
  {
   "cell_type": "code",
   "execution_count": 5,
   "metadata": {
    "collapsed": false
   },
   "outputs": [
    {
     "name": "stdout",
     "output_type": "stream",
     "text": [
      "(1) PythonRDD[5] at RDD at PythonRDD.scala:43 []\n",
      " |  MapPartitionsRDD[3] at textFile at NativeMethodAccessorImpl.java:-2 []\n",
      " |  shakespeare.txt HadoopRDD[2] at textFile at NativeMethodAccessorImpl.java:-2 []\n"
     ]
    }
   ],
   "source": [
    "# Map each word to a tuple of (word, 1) to indiate that this word appeared once\n",
    "wc = words.map(lambda x: (x,1))\n",
    "print wc.toDebugString()"
   ]
  },
  {
   "cell_type": "code",
   "execution_count": 6,
   "metadata": {
    "collapsed": false
   },
   "outputs": [
    {
     "name": "stdout",
     "output_type": "stream",
     "text": [
      "(1) PythonRDD[10] at RDD at PythonRDD.scala:43 []\n",
      " |  MapPartitionsRDD[9] at mapPartitions at PythonRDD.scala:374 []\n",
      " |  ShuffledRDD[8] at partitionBy at NativeMethodAccessorImpl.java:-2 []\n",
      " +-(1) PairwiseRDD[7] at reduceByKey at <ipython-input-6-f50e20538e62>:3 []\n",
      "    |  PythonRDD[6] at reduceByKey at <ipython-input-6-f50e20538e62>:3 []\n",
      "    |  MapPartitionsRDD[3] at textFile at NativeMethodAccessorImpl.java:-2 []\n",
      "    |  shakespeare.txt HadoopRDD[2] at textFile at NativeMethodAccessorImpl.java:-2 []\n"
     ]
    }
   ],
   "source": [
    "# Reduce the generated keys, using add to add the resulting values together for every key\n",
    "from operator import add\n",
    "counts = wc.reduceByKey(add)\n",
    "print counts.toDebugString()"
   ]
  },
  {
   "cell_type": "code",
   "execution_count": 8,
   "metadata": {
    "collapsed": false
   },
   "outputs": [
    {
     "name": "stdout",
     "output_type": "stream",
     "text": [
      "total 6076\r\n",
      "drwxrwxr-x 2 james james    4096 Nov  1 13:31 .\r\n",
      "drwxrwxr-x 5 james james    4096 Nov  1 13:31 ..\r\n",
      "-rw-r--r-- 1 james james 6159858 Nov  1 13:31 part-00000\r\n",
      "-rw-rw-r-- 1 james james   48132 Nov  1 13:31 .part-00000.crc\r\n",
      "-rw-r--r-- 1 james james       0 Nov  1 13:31 _SUCCESS\r\n",
      "-rw-rw-r-- 1 james james       8 Nov  1 13:31 ._SUCCESS.crc\r\n"
     ]
    }
   ],
   "source": [
    "# Save counts to folder wc, and look into output folder\n",
    "counts.saveAsTextFile(\"wc\")\n",
    "!ls -al wc"
   ]
  },
  {
   "cell_type": "code",
   "execution_count": 9,
   "metadata": {
    "collapsed": false
   },
   "outputs": [
    {
     "name": "stdout",
     "output_type": "stream",
     "text": [
      "(u'kingrichardiii@18311', 1)\r\n",
      "(u'troilusandcressida@83747', 1)\r\n",
      "(u'considered.', 2)\r\n",
      "(u'kinghenryviii@7731', 1)\r\n",
      "(u'hamlet@141843', 1)\r\n",
      "(u'othello@36737', 1)\r\n",
      "(u'kinghenryviii@7732', 1)\r\n",
      "(u'othello@36738', 1)\r\n",
      "(u'romeoandjuliet@1862', 1)\r\n",
      "(u'coriolanus@166868', 1)\r\n"
     ]
    }
   ],
   "source": [
    "# Show output from word count and stop the spark context\n",
    "!head wc/part-00000\n",
    "sc.stop()"
   ]
  },
  {
   "cell_type": "markdown",
   "metadata": {},
   "source": [
    "## Clustering with K-Means Example\n",
    "\n",
    "Follow the example from http://spark.apache.org/docs/latest/mllib-clustering.html"
   ]
  },
  {
   "cell_type": "code",
   "execution_count": 10,
   "metadata": {
    "collapsed": false
   },
   "outputs": [
    {
     "name": "stdout",
     "output_type": "stream",
     "text": [
      "Within Set Sum of Squared Error = 0.692820323028\n"
     ]
    }
   ],
   "source": [
    "from pyspark import  SparkContext\n",
    "sc = SparkContext('local', 'pyspark')\n",
    "\n",
    "from pyspark.mllib.clustering import KMeans, KMeansModel\n",
    "from numpy import array\n",
    "from math import sqrt\n",
    "\n",
    "# Load and parse the data\n",
    "data = sc.textFile(\"%s/data/mllib/kmeans_data.txt\" % os.environ['SPARK_HOME'])\n",
    "parsedData = data.map(lambda line: array([float(x) for x in line.split(' ')]))\n",
    "\n",
    "# Build the model (cluster the data)\n",
    "clusters = KMeans.train(parsedData, 2, maxIterations=10,\n",
    "        runs=10, initializationMode=\"random\")\n",
    "\n",
    "# Evaluate clustering by computing Within Set Sum of Squared Errors\n",
    "def error(point):\n",
    "    center = clusters.centers[clusters.predict(point)]\n",
    "    return sqrt(sum([x**2 for x in (point - center)]))\n",
    "\n",
    "WSSSE = parsedData.map(lambda point: error(point)).reduce(lambda x, y: x + y)\n",
    "print(\"Within Set Sum of Squared Error = \" + str(WSSSE))\n",
    "\n",
    "# Save and load model\n",
    "clusters.save(sc, \"myModelPath\")\n",
    "sameModel = KMeansModel.load(sc, \"myModelPath\")"
   ]
  },
  {
   "cell_type": "code",
   "execution_count": 18,
   "metadata": {
    "collapsed": false
   },
   "outputs": [
    {
     "name": "stdout",
     "output_type": "stream",
     "text": [
      "Cluster centers: [array([ 9.1,  9.1,  9.1]), array([ 0.1,  0.1,  0.1])]\n",
      "(1, 1, 1) is clustered to: [ 0.1  0.1  0.1]\n",
      "(8, 8, 8) is clustered to: [ 9.1  9.1  9.1]\n"
     ]
    }
   ],
   "source": [
    "# Show clusters\n",
    "print(\"Cluster centers: %s\" % clusters.centers)\n",
    "\n",
    "# Confirm we can predict new arrays\n",
    "print(\"(1, 1, 1) is clustered to: %s\" % clusters.centers[clusters.predict(array([1, 1, 1]))])\n",
    "print(\"(8, 8, 8) is clustered to: %s\" % clusters.centers[clusters.predict(array([8, 8, 8]))])"
   ]
  },
  {
   "cell_type": "markdown",
   "metadata": {},
   "source": [
    "## K-Means for Mini Project\n",
    "\n",
    "Lets do the above but for the data from previous weeks"
   ]
  },
  {
   "cell_type": "code",
   "execution_count": null,
   "metadata": {
    "collapsed": true
   },
   "outputs": [],
   "source": []
  }
 ],
 "metadata": {
  "kernelspec": {
   "display_name": "Python 2",
   "language": "python",
   "name": "python2"
  },
  "language_info": {
   "codemirror_mode": {
    "name": "ipython",
    "version": 2
   },
   "file_extension": ".py",
   "mimetype": "text/x-python",
   "name": "python",
   "nbconvert_exporter": "python",
   "pygments_lexer": "ipython2",
   "version": "2.7.6"
  }
 },
 "nbformat": 4,
 "nbformat_minor": 0
}
